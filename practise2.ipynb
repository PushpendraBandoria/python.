{
 "cells": [
  {
   "cell_type": "code",
   "execution_count": 48,
   "metadata": {},
   "outputs": [
    {
     "name": "stdout",
     "output_type": "stream",
     "text": [
      "enter your name:tanu\n",
      "HI WORLD\n"
     ]
    }
   ],
   "source": [
    "x=input(\"enter your name:\")\n",
    "y = \"HI WORLD\"\n",
    "print(y)      #i want  to check the id of y \""
   ]
  },
  {
   "cell_type": "code",
   "execution_count": 49,
   "metadata": {},
   "outputs": [
    {
     "name": "stdout",
     "output_type": "stream",
     "text": [
      "tanu\n"
     ]
    }
   ],
   "source": [
    "print(x)\n"
   ]
  },
  {
   "cell_type": "code",
   "execution_count": 51,
   "metadata": {},
   "outputs": [
    {
     "name": "stdout",
     "output_type": "stream",
     "text": [
      "HI WORLD\n"
     ]
    }
   ],
   "source": [
    "print(y)"
   ]
  },
  {
   "cell_type": "markdown",
   "metadata": {},
   "source": [
    "# heading#"
   ]
  },
  {
   "cell_type": "markdown",
   "metadata": {},
   "source": [
    "##heading##"
   ]
  },
  {
   "cell_type": "markdown",
   "metadata": {},
   "source": [
    "## HEADING ##\n",
    "### HEADING ###\n",
    "#### HEADING ####\n",
    "##### HEADING #####\n",
    "###### HEADING ######"
   ]
  },
  {
   "cell_type": "markdown",
   "metadata": {},
   "source": [
    "# HEADING #"
   ]
  },
  {
   "cell_type": "markdown",
   "metadata": {},
   "source": [
    "## HEADING ##"
   ]
  },
  {
   "cell_type": "markdown",
   "metadata": {},
   "source": [
    "# WHAT  IS  DATA TYPE ? #"
   ]
  },
  {
   "cell_type": "code",
   "execution_count": 52,
   "metadata": {},
   "outputs": [],
   "source": [
    "# REGULAR EXPRESSION"
   ]
  },
  {
   "cell_type": "code",
   "execution_count": 54,
   "metadata": {},
   "outputs": [],
   "source": [
    "import  re"
   ]
  },
  {
   "cell_type": "raw",
   "metadata": {},
   "source": [
    " \n",
    "#wild code\n",
    "#  * -->zero or  more repeatations\n",
    "a* '' 'a','aaa','aaaa','aaaaa'\n",
    "\n",
    "# + --> one or more rpeatations\n",
    "a+ 'a','aa','aaa','aaaa','aaaaa'\n",
    "\n",
    "# ? --> may be or may not be \n",
    "human?,\"human\",\"human\",\"humans\"\n",
    "\n",
    "# . --> character class including spaces and special character "
   ]
  },
  {
   "cell_type": "raw",
   "metadata": {},
   "source": [
    "# *--> zero  or more repeatations \n",
    "+--> one or more repeatations  \n",
    "?--> may be or may not be \n",
    ".--> character including spaces and special character\n"
   ]
  },
  {
   "cell_type": "code",
   "execution_count": 60,
   "metadata": {},
   "outputs": [],
   "source": [
    "import re "
   ]
  },
  {
   "cell_type": "code",
   "execution_count": 70,
   "metadata": {},
   "outputs": [
    {
     "name": "stdout",
     "output_type": "stream",
     "text": [
      "['', '', '', '', '', '', '', '', 'a', '', '', '', '', '', '', '', '', 'a', '', '', '', '', '', '', '', '', '', '', '', '', '', '', 'a', '', '', '', '']\n",
      "['a', '', 'aaa', '', 'aaaaa', '', 'aaaaaa', '', 'aaaaaa', '', 'aa', '', '', '', '', '', '', '', '', '', '', 'a', '', '', '', '', '']\n"
     ]
    }
   ],
   "source": [
    "integer = re.compile(r\"a*\")    #ask =  why we took integer date type  here \n",
    "s = \"hello smarty i  want  to  come back \"\n",
    "p = \"a aaa aaaaa aaaaaa aaaaaa aa hello  smarty \"\n",
    "data = re.findall(integer,s)\n",
    "data2 = re.findall(integer,p)\n",
    "print(data)\n",
    "print(data2)"
   ]
  },
  {
   "cell_type": "code",
   "execution_count": 78,
   "metadata": {},
   "outputs": [
    {
     "name": "stdout",
     "output_type": "stream",
     "text": [
      "['a', 'a']\n",
      "['a', 'aa', 'aaa', 'aaa', 'aaaaa', 'aaaaa', 'aaa', 'aaaa', 'aaaa']\n"
     ]
    }
   ],
   "source": [
    "integer = re.compile(r\"a+\")\n",
    "s = \"hallo world how are  you\" \n",
    "p = \"a aa aaa aaa aaaaa aaaaa aaa aaaa  aaaa\"\n",
    "data2 = re.findall(integer,s)\n",
    "data3 = re.findall(integer,p)\n",
    "print(data2)\n",
    "print(data3)"
   ]
  },
  {
   "cell_type": "code",
   "execution_count": 79,
   "metadata": {},
   "outputs": [
    {
     "name": "stdout",
     "output_type": "stream",
     "text": [
      "['', 'a', '', '', '', '', '', '', '', '', '', '', '', '', '', '', 'a', '', '', '', '', '', '', '', '']\n",
      "['a', '', 'a', 'a', '', 'a', 'a', 'a', '', 'a', 'a', 'a', '', 'a', 'a', 'a', 'a', 'a', '', 'a', 'a', 'a', 'a', 'a', '', 'a', 'a', 'a', '', 'a', 'a', 'a', 'a', '', '', 'a', 'a', 'a', 'a', '']\n"
     ]
    }
   ],
   "source": [
    "integer = re.compile(r\"a?\")\n",
    "s = \"hallo world how are  you\" \n",
    "p = \"a aa aaa aaa aaaaa aaaaa aaa aaaa  aaaa\"\n",
    "data = re.findall(integer,s)\n",
    "data2 = re.findall(integer,p)\n",
    "print(data)\n",
    "print(data2)"
   ]
  },
  {
   "cell_type": "code",
   "execution_count": 81,
   "metadata": {},
   "outputs": [
    {
     "name": "stdout",
     "output_type": "stream",
     "text": [
      "['al', 'ar']\n",
      "['a ', 'aa', 'aa', 'a ', 'aa', 'a ', 'aa', 'aa', 'a ', 'aa', 'aa', 'a ', 'aa', 'a ', 'aa', 'aa', 'aa', 'aa']\n"
     ]
    }
   ],
   "source": [
    "integer = re.compile(r\"a.\")\n",
    "s = \"hallo world how are  you\" \n",
    "p = \"a aa aaa aaa aaaaa aaaaa aaa aaaa  aaaa\"\n",
    "data = re.findall(integer,s)\n",
    "data2 = re.findall(integer,p)\n",
    "print(data)\n",
    "print(data2)        #ask = in this output why it including l and r character"
   ]
  },
  {
   "cell_type": "code",
   "execution_count": 83,
   "metadata": {},
   "outputs": [
    {
     "data": {
      "text/plain": [
       "'hope you will be fine as i seen you as first time '"
      ]
     },
     "execution_count": 83,
     "metadata": {},
     "output_type": "execute_result"
    }
   ],
   "source": [
    "s = \"hi hello world \"\n",
    "\"i am back to home as soon as possible \"   #  why it has been taken only  last line of code \n",
    "\"where are you now \"                       # why it has not  been taken upper line why it  has skiped \n",
    "\"hope you will be fine as i seen you as first time \""
   ]
  },
  {
   "cell_type": "code",
   "execution_count": 104,
   "metadata": {},
   "outputs": [],
   "source": [
    "s = \"\"\"hi hello world first number 2583691472 \n",
    "how are you now ? second number 1478523699  4856912576\n",
    "third number 9518476233\n",
    "jsgfjbkagf7  8529637415\n",
    "jsbajabhfjengwgjh 9512487963   147258369897456\n",
    "i m coming home as soon as possible \"\"\""
   ]
  },
  {
   "cell_type": "code",
   "execution_count": 111,
   "metadata": {},
   "outputs": [
    {
     "data": {
      "text/plain": [
       "['2583691472',\n",
       " '1478523699',\n",
       " '4856912576',\n",
       " '9518476233',\n",
       " '8529637415',\n",
       " '9512487963',\n",
       " '1472583698']"
      ]
     },
     "execution_count": 111,
     "metadata": {},
     "output_type": "execute_result"
    }
   ],
   "source": [
    "import re\n",
    "pat = re.compile(r\"[0-9]{10}\")     \n",
    "re.findall(pat,s)"
   ]
  },
  {
   "cell_type": "code",
   "execution_count": 122,
   "metadata": {},
   "outputs": [],
   "source": [
    "s =\"\"\"mayer can be mayor or  maiyer mayair mayarr mayyor\"\"\""
   ]
  },
  {
   "cell_type": "code",
   "execution_count": 132,
   "metadata": {},
   "outputs": [
    {
     "name": "stdout",
     "output_type": "stream",
     "text": [
      "['mayer', 'mayor']\n"
     ]
    }
   ],
   "source": [
    "data = re.findall(r\"m[a]y[eoi]r?\",s)\n",
    "print(data)"
   ]
  },
  {
   "cell_type": "code",
   "execution_count": 236,
   "metadata": {},
   "outputs": [],
   "source": [
    "y=5"
   ]
  },
  {
   "cell_type": "code",
   "execution_count": 237,
   "metadata": {},
   "outputs": [
    {
     "name": "stdout",
     "output_type": "stream",
     "text": [
      "<class 'int'>\n"
     ]
    }
   ],
   "source": [
    "print(type(y))"
   ]
  },
  {
   "cell_type": "code",
   "execution_count": 238,
   "metadata": {},
   "outputs": [
    {
     "data": {
      "text/plain": [
       "str"
      ]
     },
     "execution_count": 238,
     "metadata": {},
     "output_type": "execute_result"
    }
   ],
   "source": [
    "type(a)"
   ]
  },
  {
   "cell_type": "code",
   "execution_count": null,
   "metadata": {},
   "outputs": [],
   "source": [
    "a=5.6"
   ]
  },
  {
   "cell_type": "code",
   "execution_count": null,
   "metadata": {},
   "outputs": [],
   "source": [
    "print(type(a))"
   ]
  },
  {
   "cell_type": "code",
   "execution_count": null,
   "metadata": {},
   "outputs": [],
   "source": [
    "pat = re.compile(r\"[0.0-9.0]+\")\n",
    "a = input(\"floating number :\")\n",
    "if pat.match(a) :\n",
    "    print(\"it is  an integer\")          # in this program floating number also considered as integer .why?\n",
    "else: \n",
    "        print(\"it is not an integer\")"
   ]
  },
  {
   "cell_type": "code",
   "execution_count": null,
   "metadata": {},
   "outputs": [],
   "source": []
  },
  {
   "cell_type": "code",
   "execution_count": null,
   "metadata": {},
   "outputs": [],
   "source": []
  },
  {
   "cell_type": "code",
   "execution_count": null,
   "metadata": {},
   "outputs": [],
   "source": []
  }
 ],
 "metadata": {
  "kernelspec": {
   "display_name": "Python 3",
   "language": "python",
   "name": "python3"
  },
  "language_info": {
   "codemirror_mode": {
    "name": "ipython",
    "version": 3
   },
   "file_extension": ".py",
   "mimetype": "text/x-python",
   "name": "python",
   "nbconvert_exporter": "python",
   "pygments_lexer": "ipython3",
   "version": "3.7.3"
  }
 },
 "nbformat": 4,
 "nbformat_minor": 2
}
